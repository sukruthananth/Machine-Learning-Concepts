{
 "cells": [
  {
   "cell_type": "code",
   "execution_count": 32,
   "id": "c19e93fe",
   "metadata": {},
   "outputs": [],
   "source": [
    "# Supervised learning\n",
    "\n",
    "# understanding how to select neighbours in Knn classifier using \n",
    "#subplot axes and contour plot which gives us decision boundary\n",
    "# trying to reduce the complexity of the model which is very high when the n value is 1. \n",
    "# generalization of model is the priority.\n",
    "\n",
    "import mglearn\n",
    "\n",
    "import numpy as np"
   ]
  },
  {
   "cell_type": "code",
   "execution_count": 3,
   "id": "a70f6251",
   "metadata": {},
   "outputs": [
    {
     "name": "stderr",
     "output_type": "stream",
     "text": [
      "/Users/sukruthananth/opt/anaconda3/lib/python3.8/site-packages/sklearn/utils/deprecation.py:86: FutureWarning: Function make_blobs is deprecated; Please import make_blobs directly from scikit-learn\n",
      "  warnings.warn(msg, category=FutureWarning)\n"
     ]
    }
   ],
   "source": [
    "x , y = mglearn.datasets.make_forge()"
   ]
  },
  {
   "cell_type": "code",
   "execution_count": 7,
   "id": "8179f611",
   "metadata": {},
   "outputs": [],
   "source": [
    "import matplotlib\n",
    "from matplotlib import pyplot as plt"
   ]
  },
  {
   "cell_type": "code",
   "execution_count": 8,
   "id": "c6b3defd",
   "metadata": {},
   "outputs": [
    {
     "data": {
      "text/plain": [
       "<matplotlib.legend.Legend at 0x7fd2705e8550>"
      ]
     },
     "execution_count": 8,
     "metadata": {},
     "output_type": "execute_result"
    },
    {
     "data": {
      "image/png": "[encoded data removed]",
      "text/plain": [
       "<Figure size 432x288 with 1 Axes>"
      ]
     },
     "metadata": {
      "needs_background": "light"
     },
     "output_type": "display_data"
    }
   ],
   "source": [
    "mglearn.discrete_scatter(x[:,0],x[:,1],y)\n",
    "plt.legend([\"Class 0\", \"class 1\"])"
   ]
  },
  {
   "cell_type": "code",
   "execution_count": 9,
   "id": "f9500a94",
   "metadata": {},
   "outputs": [],
   "source": [
    "x1 = x[:,0]"
   ]
  },
  {
   "cell_type": "code",
   "execution_count": 10,
   "id": "1f93be11",
   "metadata": {},
   "outputs": [],
   "source": [
    "X1, y1 = mglearn.datasets.make_wave(n_samples=100)"
   ]
  },
  {
   "cell_type": "code",
   "execution_count": 11,
   "id": "2f982758",
   "metadata": {},
   "outputs": [
    {
     "data": {
      "text/plain": [
       "[<matplotlib.lines.Line2D at 0x7fd270772040>]"
      ]
     },
     "execution_count": 11,
     "metadata": {},
     "output_type": "execute_result"
    },
    {
     "data": {
      "image/png": "[encoded data removed]",
      "text/plain": [
       "<Figure size 432x288 with 1 Axes>"
      ]
     },
     "metadata": {
      "needs_background": "light"
     },
     "output_type": "display_data"
    }
   ],
   "source": [
    "plt.plot(X1,y1,'o')"
   ]
  },
  {
   "cell_type": "code",
   "execution_count": 13,
   "id": "6882fef8",
   "metadata": {},
   "outputs": [],
   "source": [
    "from sklearn.datasets import load_breast_cancer"
   ]
  },
  {
   "cell_type": "code",
   "execution_count": 14,
   "id": "81af7def",
   "metadata": {},
   "outputs": [],
   "source": [
    "cancer = load_breast_cancer()"
   ]
  },
  {
   "cell_type": "code",
   "execution_count": 16,
   "id": "3ca67f1b",
   "metadata": {
    "scrolled": true
   },
   "outputs": [
    {
     "data": {
      "text/plain": [
       "sklearn.utils.Bunch"
      ]
     },
     "execution_count": 16,
     "metadata": {},
     "output_type": "execute_result"
    }
   ],
   "source": [
    "type(cancer)"
   ]
  },
  {
   "cell_type": "code",
   "execution_count": 17,
   "id": "d398b7e0",
   "metadata": {},
   "outputs": [
    {
     "data": {
      "text/plain": [
       "(569, 30)"
      ]
     },
     "execution_count": 17,
     "metadata": {},
     "output_type": "execute_result"
    }
   ],
   "source": [
    "cancer['data'].shape"
   ]
  },
  {
   "cell_type": "code",
   "execution_count": null,
   "id": "5ccb0f22",
   "metadata": {},
   "outputs": [],
   "source": [
    "import numpy as np "
   ]
  },
  {
   "cell_type": "code",
   "execution_count": null,
   "id": "62d18b6f",
   "metadata": {},
   "outputs": [],
   "source": [
    "help(np.bincount)"
   ]
  },
  {
   "cell_type": "code",
   "execution_count": null,
   "id": "4bf66aaf",
   "metadata": {},
   "outputs": [],
   "source": [
    "cancer.target_names"
   ]
  },
  {
   "cell_type": "code",
   "execution_count": null,
   "id": "d4a1a182",
   "metadata": {},
   "outputs": [],
   "source": [
    "print(\"samples{}\".format({n:v for n,v in zip(cancer.target_names,np.bincount(cancer.target))}))"
   ]
  },
  {
   "cell_type": "code",
   "execution_count": null,
   "id": "f427a325",
   "metadata": {},
   "outputs": [],
   "source": [
    "mglearn.plots.plot_knn_classification(n_neighbors=1)"
   ]
  },
  {
   "cell_type": "code",
   "execution_count": null,
   "id": "14ca7d6c",
   "metadata": {},
   "outputs": [],
   "source": [
    "from sklearn.model_selection import train_test_split"
   ]
  },
  {
   "cell_type": "code",
   "execution_count": 71,
   "id": "f5c92a6a",
   "metadata": {},
   "outputs": [
    {
     "name": "stderr",
     "output_type": "stream",
     "text": [
      "/Users/sukruthananth/opt/anaconda3/lib/python3.8/site-packages/sklearn/utils/deprecation.py:86: FutureWarning: Function make_blobs is deprecated; Please import make_blobs directly from scikit-learn\n",
      "  warnings.warn(msg, category=FutureWarning)\n"
     ]
    }
   ],
   "source": [
    "X,y = mglearn.datasets.make_forge()"
   ]
  },
  {
   "cell_type": "code",
   "execution_count": 26,
   "id": "16ea24e9",
   "metadata": {},
   "outputs": [
    {
     "data": {
      "text/plain": [
       "array([1, 0, 1, 0, 0, 1, 1, 0, 1, 1, 1, 1, 0, 0, 1, 1, 1, 0, 0, 1, 0, 0,\n",
       "       0, 0, 1, 0])"
      ]
     },
     "execution_count": 26,
     "metadata": {},
     "output_type": "execute_result"
    }
   ],
   "source": [
    "y"
   ]
  },
  {
   "cell_type": "code",
   "execution_count": null,
   "id": "c34eefce",
   "metadata": {},
   "outputs": [],
   "source": [
    "X_train, X_test, y_train, y_test = train_test_split(X,y,random_state=0)"
   ]
  },
  {
   "cell_type": "code",
   "execution_count": null,
   "id": "c7d84a5f",
   "metadata": {},
   "outputs": [],
   "source": [
    "from sklearn.neighbors import KNeighborsClassifier"
   ]
  },
  {
   "cell_type": "code",
   "execution_count": null,
   "id": "e670b5ac",
   "metadata": {},
   "outputs": [],
   "source": [
    "model = KNeighborsClassifier(n_neighbors=5)"
   ]
  },
  {
   "cell_type": "code",
   "execution_count": null,
   "id": "be05bf52",
   "metadata": {},
   "outputs": [],
   "source": [
    "model.fit(X_train, y_train)"
   ]
  },
  {
   "cell_type": "code",
   "execution_count": null,
   "id": "af95efc6",
   "metadata": {},
   "outputs": [],
   "source": [
    "model.score(X_test, y_test)"
   ]
  },
  {
   "cell_type": "code",
   "execution_count": null,
   "id": "fed5052f",
   "metadata": {},
   "outputs": [],
   "source": [
    "fig, axes = plt.subplots(1, 3, figsize=(10,3))"
   ]
  },
  {
   "cell_type": "code",
   "execution_count": null,
   "id": "5278388f",
   "metadata": {},
   "outputs": [],
   "source": [
    "type(axes[0])"
   ]
  },
  {
   "cell_type": "code",
   "execution_count": null,
   "id": "1e939cbf",
   "metadata": {},
   "outputs": [],
   "source": [
    "fig"
   ]
  },
  {
   "cell_type": "code",
   "execution_count": null,
   "id": "f960f3a9",
   "metadata": {},
   "outputs": [],
   "source": [
    "help(mglearn.plots.plot_2d_separator)"
   ]
  },
  {
   "cell_type": "code",
   "execution_count": null,
   "id": "1f492071",
   "metadata": {},
   "outputs": [],
   "source": [
    "for n_neighbors, ax in zip([1, 3, 9], axes):\n",
    "    clf = KNeighborsClassifier(n_neighbors=n_neighbors).fit(X, y) \n",
    "    \n",
    "    mglearn.plots.plot_2d_separator(clf, X, fill=True, eps=0.5, ax=ax, alpha=.4) \n",
    "    \n",
    "    mglearn.discrete_scatter(X[:, 0], X[:, 1], y, ax=ax)\n",
    "    \n",
    "    ax.set_title(\"{} neighbor(s)\".format(n_neighbors))\n",
    "    ax.set_xlabel(\"feature 0\")\n",
    "    ax.set_ylabel(\"feature 1\")\n",
    "axes[0].legend(loc=3)\n",
    "    \n"
   ]
  },
  {
   "cell_type": "code",
   "execution_count": 21,
   "id": "61944102",
   "metadata": {},
   "outputs": [
    {
     "data": {
      "image/png": "[encoded data removed]",
      "text/plain": [
       "<Figure size 720x216 with 3 Axes>"
      ]
     },
     "metadata": {
      "needs_background": "light"
     },
     "output_type": "display_data"
    }
   ],
   "source": [
    "fig, axes = plt.subplots(1,3, figsize=(10,3))"
   ]
  },
  {
   "cell_type": "code",
   "execution_count": 82,
   "id": "77b29390",
   "metadata": {},
   "outputs": [],
   "source": [
    "# plotting the classification model using Knn to select the best n value by doing a fill plot\n",
    "\n",
    "from sklearn.neighbors import KNeighborsClassifier"
   ]
  },
  {
   "cell_type": "code",
   "execution_count": 72,
   "id": "4685756b",
   "metadata": {},
   "outputs": [],
   "source": [
    "dev = X.std()/2"
   ]
  },
  {
   "cell_type": "code",
   "execution_count": 73,
   "id": "ebd40b33",
   "metadata": {},
   "outputs": [],
   "source": [
    "xmin, xmax = X[:,0].min()-dev, X[:,0].max() + dev\n",
    "ymin, ymax = X[:,1].min()-dev, X[:,1].max() + dev\n",
    "x1 = np.linspace(xmin, xmax,1000)\n",
    "y1 = np.linspace(ymin, ymax,1000)"
   ]
  },
  {
   "cell_type": "code",
   "execution_count": 74,
   "id": "f3db015a",
   "metadata": {},
   "outputs": [],
   "source": [
    "xmesh,ymesh = np.meshgrid(x1,y1)"
   ]
  },
  {
   "cell_type": "code",
   "execution_count": 75,
   "id": "50ded41e",
   "metadata": {},
   "outputs": [],
   "source": [
    "finalgrid = np.c_[xmesh.ravel(),ymesh.ravel()]"
   ]
  },
  {
   "cell_type": "code",
   "execution_count": 78,
   "id": "befe5e7c",
   "metadata": {},
   "outputs": [
    {
     "data": {
      "text/plain": [
       "(1000000, 2)"
      ]
     },
     "execution_count": 78,
     "metadata": {},
     "output_type": "execute_result"
    }
   ],
   "source": [
    "finalgrid.shape"
   ]
  },
  {
   "cell_type": "code",
   "execution_count": 79,
   "id": "f678f6e6",
   "metadata": {},
   "outputs": [
    {
     "data": {
      "text/plain": [
       "(26,)"
      ]
     },
     "execution_count": 79,
     "metadata": {},
     "output_type": "execute_result"
    }
   ],
   "source": [
    "y.shape"
   ]
  },
  {
   "cell_type": "code",
   "execution_count": 80,
   "id": "1e9671fe",
   "metadata": {},
   "outputs": [
    {
     "data": {
      "text/plain": [
       "(26, 2)"
      ]
     },
     "execution_count": 80,
     "metadata": {},
     "output_type": "execute_result"
    }
   ],
   "source": [
    "X.shape"
   ]
  },
  {
   "cell_type": "code",
   "execution_count": 182,
   "id": "5e300671",
   "metadata": {},
   "outputs": [
    {
     "data": {
      "text/plain": [
       "KNeighborsClassifier(n_neighbors=1)"
      ]
     },
     "execution_count": 182,
     "metadata": {},
     "output_type": "execute_result"
    }
   ],
   "source": [
    "clf = KNeighborsClassifier(n_neighbors = 1)\n",
    "clf.fit(X,y)"
   ]
  },
  {
   "cell_type": "code",
   "execution_count": 700,
   "id": "8de6d333",
   "metadata": {
    "scrolled": true
   },
   "outputs": [],
   "source": [
    "final_decision = clf.predict_proba(finalgrid)[:,1]"
   ]
  },
  {
   "cell_type": "code",
   "execution_count": 701,
   "id": "9d593723",
   "metadata": {},
   "outputs": [
    {
     "data": {
      "text/plain": [
       "array([0., 0., 0., ..., 1., 1., 1.])"
      ]
     },
     "execution_count": 701,
     "metadata": {},
     "output_type": "execute_result"
    }
   ],
   "source": [
    "final_decision"
   ]
  },
  {
   "cell_type": "code",
   "execution_count": 187,
   "id": "8c5b9461",
   "metadata": {},
   "outputs": [
    {
     "data": {
      "text/plain": [
       "<matplotlib.collections.PathCollection at 0x7fd20b5b0d90>"
      ]
     },
     "execution_count": 187,
     "metadata": {},
     "output_type": "execute_result"
    },
    {
     "data": {
      "image/png": "[encoded data removed]",
      "text/plain": [
       "<Figure size 432x288 with 1 Axes>"
      ]
     },
     "metadata": {
      "needs_background": "light"
     },
     "output_type": "display_data"
    }
   ],
   "source": [
    "plt.contourf(xmesh,ymesh, final_decision.reshape(xmesh.shape), levels=1, alpha=0.5)\n",
    "plt.scatter(X[:,0],X[:,1],c=y)"
   ]
  },
  {
   "cell_type": "code",
   "execution_count": 150,
   "id": "65bea6c3",
   "metadata": {},
   "outputs": [
    {
     "data": {
      "text/plain": [
       "<matplotlib.collections.PathCollection at 0x7fd248aba8e0>"
      ]
     },
     "execution_count": 150,
     "metadata": {},
     "output_type": "execute_result"
    },
    {
     "data": {
      "image/png": "[encoded data removed]",
      "text/plain": [
       "<Figure size 432x288 with 1 Axes>"
      ]
     },
     "metadata": {
      "needs_background": "light"
     },
     "output_type": "display_data"
    }
   ],
   "source": [
    "plt.contour(xmesh,ymesh, final_decision.reshape(xmesh.shape), levels=1, alpha=0.5)\n",
    "plt.scatter(X[:,0],X[:,1],c= y)"
   ]
  },
  {
   "cell_type": "code",
   "execution_count": 221,
   "id": "a03ced81",
   "metadata": {},
   "outputs": [],
   "source": [
    "#plotting Regression using Knn\n",
    "\n",
    "\n",
    "from sklearn.neighbors import KNeighborsRegressor\n",
    "import mglearn\n",
    "X,y = mglearn.datasets.make_wave()\n",
    "X_train, X_test, y_train, y_test = sklearn.model_selection.train_test_split(X,y,random_state=0)\n",
    "reg = KNeighborsRegressor(n_neighbors=1)\n",
    "reg.fit(X_train,y_train)\n",
    "\n",
    "result = reg.predict(X_test)"
   ]
  },
  {
   "cell_type": "code",
   "execution_count": 218,
   "id": "b8b24b1b",
   "metadata": {
    "scrolled": true
   },
   "outputs": [
    {
     "data": {
      "text/plain": [
       "array([[-3.        ],\n",
       "       [-2.93939394],\n",
       "       [-2.87878788],\n",
       "       [-2.81818182],\n",
       "       [-2.75757576],\n",
       "       [-2.6969697 ],\n",
       "       [-2.63636364],\n",
       "       [-2.57575758],\n",
       "       [-2.51515152],\n",
       "       [-2.45454545],\n",
       "       [-2.39393939],\n",
       "       [-2.33333333],\n",
       "       [-2.27272727],\n",
       "       [-2.21212121],\n",
       "       [-2.15151515],\n",
       "       [-2.09090909],\n",
       "       [-2.03030303],\n",
       "       [-1.96969697],\n",
       "       [-1.90909091],\n",
       "       [-1.84848485],\n",
       "       [-1.78787879],\n",
       "       [-1.72727273],\n",
       "       [-1.66666667],\n",
       "       [-1.60606061],\n",
       "       [-1.54545455],\n",
       "       [-1.48484848],\n",
       "       [-1.42424242],\n",
       "       [-1.36363636],\n",
       "       [-1.3030303 ],\n",
       "       [-1.24242424],\n",
       "       [-1.18181818],\n",
       "       [-1.12121212],\n",
       "       [-1.06060606],\n",
       "       [-1.        ],\n",
       "       [-0.93939394],\n",
       "       [-0.87878788],\n",
       "       [-0.81818182],\n",
       "       [-0.75757576],\n",
       "       [-0.6969697 ],\n",
       "       [-0.63636364],\n",
       "       [-0.57575758],\n",
       "       [-0.51515152],\n",
       "       [-0.45454545],\n",
       "       [-0.39393939],\n",
       "       [-0.33333333],\n",
       "       [-0.27272727],\n",
       "       [-0.21212121],\n",
       "       [-0.15151515],\n",
       "       [-0.09090909],\n",
       "       [-0.03030303],\n",
       "       [ 0.03030303],\n",
       "       [ 0.09090909],\n",
       "       [ 0.15151515],\n",
       "       [ 0.21212121],\n",
       "       [ 0.27272727],\n",
       "       [ 0.33333333],\n",
       "       [ 0.39393939],\n",
       "       [ 0.45454545],\n",
       "       [ 0.51515152],\n",
       "       [ 0.57575758],\n",
       "       [ 0.63636364],\n",
       "       [ 0.6969697 ],\n",
       "       [ 0.75757576],\n",
       "       [ 0.81818182],\n",
       "       [ 0.87878788],\n",
       "       [ 0.93939394],\n",
       "       [ 1.        ],\n",
       "       [ 1.06060606],\n",
       "       [ 1.12121212],\n",
       "       [ 1.18181818],\n",
       "       [ 1.24242424],\n",
       "       [ 1.3030303 ],\n",
       "       [ 1.36363636],\n",
       "       [ 1.42424242],\n",
       "       [ 1.48484848],\n",
       "       [ 1.54545455],\n",
       "       [ 1.60606061],\n",
       "       [ 1.66666667],\n",
       "       [ 1.72727273],\n",
       "       [ 1.78787879],\n",
       "       [ 1.84848485],\n",
       "       [ 1.90909091],\n",
       "       [ 1.96969697],\n",
       "       [ 2.03030303],\n",
       "       [ 2.09090909],\n",
       "       [ 2.15151515],\n",
       "       [ 2.21212121],\n",
       "       [ 2.27272727],\n",
       "       [ 2.33333333],\n",
       "       [ 2.39393939],\n",
       "       [ 2.45454545],\n",
       "       [ 2.51515152],\n",
       "       [ 2.57575758],\n",
       "       [ 2.63636364],\n",
       "       [ 2.6969697 ],\n",
       "       [ 2.75757576],\n",
       "       [ 2.81818182],\n",
       "       [ 2.87878788],\n",
       "       [ 2.93939394],\n",
       "       [ 3.        ]])"
      ]
     },
     "execution_count": 218,
     "metadata": {},
     "output_type": "execute_result"
    }
   ],
   "source": [
    "line = np.linspace(-3,3,100).reshape(-1,1)"
   ]
  },
  {
   "cell_type": "code",
   "execution_count": 226,
   "id": "f60661a3",
   "metadata": {},
   "outputs": [
    {
     "data": {
      "text/plain": [
       "[<matplotlib.lines.Line2D at 0x7fd209bf97f0>]"
      ]
     },
     "execution_count": 226,
     "metadata": {},
     "output_type": "execute_result"
    },
    {
     "data": {
      "image/png": "[encoded data removed]",
      "text/plain": [
       "<Figure size 432x288 with 1 Axes>"
      ]
     },
     "metadata": {
      "needs_background": "light"
     },
     "output_type": "display_data"
    }
   ],
   "source": [
    "plt.plot(line, reg.predict(line))\n",
    "# plt.plot(X_train, y_train, '^', c='red')\n",
    "# plt.plot(X_test, y_test, '^', c='blue')"
   ]
  },
  {
   "cell_type": "code",
   "execution_count": 229,
   "id": "998596dd",
   "metadata": {},
   "outputs": [],
   "source": [
    "# Linear Models\n",
    "# in linear models the model figures out the w and b parameters, w is slope while b is offset\n",
    "#1. Linear Regression"
   ]
  },
  {
   "cell_type": "code",
   "execution_count": 268,
   "id": "c3455e64",
   "metadata": {},
   "outputs": [
    {
     "name": "stdout",
     "output_type": "stream",
     "text": [
      "w value [0.39618269]\n",
      "b value 0.03224194011753359\n",
      "training score 0.6055564372642455\n",
      "testing score 0.621210114749764\n"
     ]
    },
    {
     "data": {
      "text/plain": [
       "[<matplotlib.lines.Line2D at 0x7fd20974c2e0>]"
      ]
     },
     "execution_count": 268,
     "metadata": {},
     "output_type": "execute_result"
    },
    {
     "data": {
      "image/png": "[encoded data removed]",
      "text/plain": [
       "<Figure size 432x288 with 1 Axes>"
      ]
     },
     "metadata": {
      "needs_background": "light"
     },
     "output_type": "display_data"
    }
   ],
   "source": [
    "from sklearn.linear_model import LinearRegression\n",
    "\n",
    "X,y = mglearn.datasets.make_wave()\n",
    "\n",
    "\n",
    "X_train, X_test, y_train, y_test = sklearn.model_selection.train_test_split(X, y, random_state=0)\n",
    "\n",
    "lr = LinearRegression().fit(X_train, y_train)\n",
    "\n",
    "\n",
    "# the coefficients(w) and intercepts (b)\n",
    "\n",
    "print(\"w value\",lr.coef_) # this is because there are 104 features\n",
    "\n",
    "print(\"b value\",lr.intercept_)\n",
    "\n",
    "\n",
    "## finding score on the training set and testing set \n",
    "\n",
    "print(\"training score\", lr.score(X_train, y_train))\n",
    "\n",
    "print(\"testing score\", lr.score(X_test, y_test))\n",
    " \n",
    "\n",
    "#training score 0.9520519609032729\n",
    "#testing score 0.6074721959665871\n",
    "\n",
    "# this descripancy in training and test score is a sign of overfitting the model. so, we must find a better model\n",
    "# so we can use Ridge regression which uses L2 regularization\n"
   ]
  },
  {
   "cell_type": "code",
   "execution_count": 262,
   "id": "12407cff",
   "metadata": {
    "scrolled": true
   },
   "outputs": [
    {
     "name": "stdout",
     "output_type": "stream",
     "text": [
      "training score0.79\n",
      "testing score0.64\n"
     ]
    }
   ],
   "source": [
    "# Ridge Regression \n",
    "# alpha value determines the amount of regularization. increase alpha to reduce complexity of the model for more generalization\n",
    "from sklearn.linear_model import Ridge\n",
    "X,y = mglearn.datasets.load_extended_boston()\n",
    "\n",
    "\n",
    "X_train, X_test, y_train, y_test = sklearn.model_selection.train_test_split(X, y, random_state=0)\n",
    "\n",
    "rr = Ridge(alpha=10).fit(X_train, y_train)\n",
    "\n",
    "#print(\"{:.2f} w value\".format(n for n in rr.coef_))\n",
    "      \n",
    "print(\"training score{:.2f}\".format(rr.score(X_train, y_train)))\n",
    "\n",
    "print(\"testing score{:.2f}\".format(rr.score(X_test, y_test)))"
   ]
  },
  {
   "cell_type": "code",
   "execution_count": 263,
   "id": "3fece66f",
   "metadata": {},
   "outputs": [
    {
     "data": {
      "text/plain": [
       "[<matplotlib.lines.Line2D at 0x7fd209768dc0>]"
      ]
     },
     "execution_count": 263,
     "metadata": {},
     "output_type": "execute_result"
    },
    {
     "data": {
      "image/png": "[encoded data removed]",
      "text/plain": [
       "<Figure size 432x288 with 1 Axes>"
      ]
     },
     "metadata": {
      "needs_background": "light"
     },
     "output_type": "display_data"
    }
   ],
   "source": [
    "plt.plot(rr.coef_,'X')"
   ]
  },
  {
   "cell_type": "code",
   "execution_count": 276,
   "id": "59d43c9b",
   "metadata": {},
   "outputs": [
    {
     "name": "stdout",
     "output_type": "stream",
     "text": [
      "number of features used - 33\n",
      "training score0.90\n",
      "testing score0.77\n",
      "default alpha and max iter 0.01 10000\n"
     ]
    }
   ],
   "source": [
    "# Lasso does L1 regularization \n",
    "\n",
    "# Ridge Regression \n",
    "# alpha value determines the amount of regularization. increase alpha to reduce complexity of the model for more generalization\n",
    "from sklearn.linear_model import Lasso\n",
    "X,y = mglearn.datasets.load_extended_boston()\n",
    "\n",
    "\n",
    "X_train, X_test, y_train, y_test = sklearn.model_selection.train_test_split(X, y, random_state=0)\n",
    "\n",
    "l = Lasso(alpha=0.01, max_iter=10000).fit(X_train, y_train)\n",
    "\n",
    "#print(\"{:.2f} w value\".format(n for n in rr.coef_))\n",
    "\n",
    "print(\"number of features used -> {}\".format(np.sum(l.coef_!=0)))\n",
    "      \n",
    "print(\"training score{:.2f}\".format(l.score(X_train, y_train)))\n",
    "\n",
    "print(\"testing score{:.2f}\".format(l.score(X_test, y_test)))\n",
    "\n",
    "print(\"default alpha and max iter\",l.alpha,l.max_iter )\n",
    "\n",
    "\n",
    "\n",
    "#training score0.29\n",
    "#testing score0.21 the values are very less because of underfitting. \n",
    "#so we can reduce the level of regularization by reductin aplha value.\n",
    "#default alpha and max iter 1.0 1000\n"
   ]
  },
  {
   "cell_type": "code",
   "execution_count": 311,
   "id": "850b4698",
   "metadata": {},
   "outputs": [
    {
     "name": "stderr",
     "output_type": "stream",
     "text": [
      "/Users/sukruthananth/opt/anaconda3/lib/python3.8/site-packages/sklearn/svm/_base.py:985: ConvergenceWarning: Liblinear failed to converge, increase the number of iterations.\n",
      "  warnings.warn(\"Liblinear failed to converge, increase \"\n"
     ]
    },
    {
     "data": {
      "image/png": "[encoded data removed]",
      "text/plain": [
       "<Figure size 720x216 with 2 Axes>"
      ]
     },
     "metadata": {
      "needs_background": "light"
     },
     "output_type": "display_data"
    }
   ],
   "source": [
    "# Linear models for Classification - comparison\n",
    "\n",
    "# default c= 1 decides the level of regularization for these two models. If you increse c complexity increases and the model has the chance of overfitting/\n",
    "# we can also use penalty to change the type of regularization\n",
    "from sklearn.linear_model import LogisticRegression\n",
    "from sklearn.svm import LinearSVC\n",
    "\n",
    "X,y = mglearn.datasets.make_forge()\n",
    "\n",
    "fig, axes = plt.subplots(1,2, figsize = (10,3))\n",
    "\n",
    "lr = LogisticRegression(C=0.1, solver='liblinear', penalty=\"l1\").fit(X,y)\n",
    "\n",
    "svc = LinearSVC().fit(X,y)\n",
    "\n",
    "dev = X.std()/2\n",
    "\n",
    "x_min, x_max = X[:,0].min() - dev, X[:,0].max() + dev\n",
    "\n",
    "y_min, y_max = X[:,1].min() - dev, X[:,1].max() + dev\n",
    "\n",
    "x_cord = np.linspace(x_min,x_max,1000)\n",
    "y_cord = np.linspace(y_min,y_max,1000)\n",
    "    \n",
    "x_grid, y_grid = np.meshgrid(x_cord, y_cord)\n",
    "    \n",
    "full_grid = np.c_[x_grid.ravel(),y_grid.ravel()]\n",
    "\n",
    "for model,ax in zip([lr,svc], axes):\n",
    "       \n",
    "    decision_values = model.predict(full_grid)\n",
    "    \n",
    "    ax.contour(x_grid, y_grid, decision_values.reshape(x_grid.shape), levels=1)\n",
    "    \n",
    "    ax.scatter(X[:,0],X[:,1],c=y)\n",
    "    \n",
    "    ax.set_title(\"{}\".format(model.__class__.__name__))\n",
    "    \n",
    "    ax.set_xlabel(\"feature0\")\n",
    "    \n",
    "    ax.set_ylabel(\"feature1\")\n",
    "    "
   ]
  },
  {
   "cell_type": "code",
   "execution_count": 348,
   "id": "10927c7e",
   "metadata": {},
   "outputs": [],
   "source": [
    "# Linear models for multiclass\n",
    "from sklearn.datasets import make_blobs\n",
    "\n",
    "X,y= make_blobs(random_state=42)"
   ]
  },
  {
   "cell_type": "code",
   "execution_count": 355,
   "id": "2973817e",
   "metadata": {},
   "outputs": [
    {
     "data": {
      "text/plain": [
       "<matplotlib.collections.PathCollection at 0x7fd20f36b6d0>"
      ]
     },
     "execution_count": 355,
     "metadata": {},
     "output_type": "execute_result"
    },
    {
     "data": {
      "image/png": "[encoded data removed]",
      "text/plain": [
       "<Figure size 432x288 with 1 Axes>"
      ]
     },
     "metadata": {
      "needs_background": "light"
     },
     "output_type": "display_data"
    }
   ],
   "source": [
    "plt.scatter(X[:, 0], X[:, 1], c= y)"
   ]
  },
  {
   "cell_type": "code",
   "execution_count": 352,
   "id": "ee750a85",
   "metadata": {},
   "outputs": [
    {
     "name": "stdout",
     "output_type": "stream",
     "text": [
      "Coefficient shape:  (3, 2)\n",
      "Intercept shape:  (3,)\n"
     ]
    }
   ],
   "source": [
    "linear_svm = LinearSVC().fit(X, y)\n",
    "print(\"Coefficient shape: \", linear_svm.coef_.shape) \n",
    "print(\"Intercept shape: \", linear_svm.intercept_.shape)"
   ]
  },
  {
   "cell_type": "code",
   "execution_count": 353,
   "id": "76933e01",
   "metadata": {},
   "outputs": [
    {
     "data": {
      "text/plain": [
       "array([[-7.72642091, -8.39495682],\n",
       "       [ 5.45339605,  0.74230537],\n",
       "       [-2.97867201,  9.55684617],\n",
       "       [ 6.04267315,  0.57131862],\n",
       "       [-6.52183983, -6.31932507],\n",
       "       [ 3.64934251,  1.40687195],\n",
       "       [-2.17793419,  9.98983126],\n",
       "       [ 4.42020695,  2.33028226],\n",
       "       [ 4.73695639,  2.94181467],\n",
       "       [-3.6601912 ,  9.38998415],\n",
       "       [-3.05358035,  9.12520872],\n",
       "       [-6.65216726, -5.57296684],\n",
       "       [-6.35768563, -6.58312492],\n",
       "       [-3.6155326 ,  7.8180795 ],\n",
       "       [-1.77073104,  9.18565441],\n",
       "       [-7.95051969, -6.39763718],\n",
       "       [-6.60293639, -6.05292634],\n",
       "       [-2.58120774, 10.01781903],\n",
       "       [-7.76348463, -6.72638449],\n",
       "       [-6.40638957, -6.95293851],\n",
       "       [-2.97261532,  8.54855637],\n",
       "       [-6.9567289 , -6.53895762],\n",
       "       [-7.32614214, -6.0237108 ],\n",
       "       [-2.14780202, 10.55232269],\n",
       "       [-2.54502366, 10.57892978],\n",
       "       [-2.96983639, 10.07140835],\n",
       "       [ 3.22450809,  1.55252436],\n",
       "       [-6.25395984, -7.73726715],\n",
       "       [-7.85430886, -6.09302499],\n",
       "       [-8.1165779 , -8.20056621],\n",
       "       [-7.55965191, -6.6478559 ],\n",
       "       [ 4.93599911,  2.23422496],\n",
       "       [ 4.44751787,  2.27471703],\n",
       "       [-5.72103161, -7.70079191],\n",
       "       [-0.92998481,  9.78172086],\n",
       "       [-3.10983631,  8.72259238],\n",
       "       [-2.44166942,  7.58953794],\n",
       "       [-2.18511365,  8.62920385],\n",
       "       [ 5.55528095,  2.30192079],\n",
       "       [ 4.73163961, -0.01439923],\n",
       "       [-8.25729656, -7.81793463],\n",
       "       [-2.98837186,  8.82862715],\n",
       "       [ 4.60516707,  0.80449165],\n",
       "       [-3.83738367,  9.21114736],\n",
       "       [-2.62484591,  8.71318243],\n",
       "       [ 3.57757512,  2.44676211],\n",
       "       [-8.48711043, -6.69547573],\n",
       "       [-6.70644627, -6.49479221],\n",
       "       [-6.8666253 , -5.42657552],\n",
       "       [ 3.83138523,  1.47141264],\n",
       "       [ 2.02013373,  2.79507219],\n",
       "       [ 4.64499229,  1.73858255],\n",
       "       [-1.6966718 , 10.37052616],\n",
       "       [-6.6197444 , -6.09828672],\n",
       "       [-6.05756703, -4.98331661],\n",
       "       [-7.10308998, -6.1661091 ],\n",
       "       [-3.52202874,  9.32853346],\n",
       "       [-2.26723535,  7.10100588],\n",
       "       [ 6.11777288,  1.45489947],\n",
       "       [-4.23411546,  8.4519986 ],\n",
       "       [-6.58655472, -7.59446101],\n",
       "       [ 3.93782574,  1.64550754],\n",
       "       [-7.12501531, -7.63384576],\n",
       "       [ 2.72110762,  1.94665581],\n",
       "       [-7.14428402, -4.15994043],\n",
       "       [-6.66553345, -8.12584837],\n",
       "       [ 4.70010905,  4.4364118 ],\n",
       "       [-7.76914162, -7.69591988],\n",
       "       [ 4.11011863,  2.48643712],\n",
       "       [ 4.89742923,  1.89872377],\n",
       "       [ 4.29716432,  1.17089241],\n",
       "       [-6.62913434, -6.53366138],\n",
       "       [-8.07093069, -6.22355598],\n",
       "       [-2.16557933,  7.25124597],\n",
       "       [ 4.7395302 ,  1.46969403],\n",
       "       [-5.91625106, -6.46732867],\n",
       "       [ 5.43091078,  1.06378223],\n",
       "       [-6.82141847, -8.02307989],\n",
       "       [ 6.52606474,  2.1477475 ],\n",
       "       [ 3.08921541,  2.04173266],\n",
       "       [-2.1475616 ,  8.36916637],\n",
       "       [ 3.85662554,  1.65110817],\n",
       "       [-1.68665271,  7.79344248],\n",
       "       [-5.01385268, -6.40627667],\n",
       "       [-2.52269485,  7.9565752 ],\n",
       "       [-2.30033403,  7.054616  ],\n",
       "       [-1.04354885,  8.78850983],\n",
       "       [ 3.7204546 ,  3.52310409],\n",
       "       [-3.98771961,  8.29444192],\n",
       "       [ 4.24777068,  0.50965474],\n",
       "       [ 4.7269259 ,  1.67416233],\n",
       "       [ 5.78270165,  2.72510272],\n",
       "       [-3.4172217 ,  7.60198243],\n",
       "       [ 5.22673593,  4.16362531],\n",
       "       [-3.11090424, 10.86656431],\n",
       "       [-3.18611962,  9.62596242],\n",
       "       [-1.4781981 ,  9.94556625],\n",
       "       [ 4.47859312,  2.37722054],\n",
       "       [-5.79657595, -5.82630754],\n",
       "       [-3.34841515,  8.70507375]])"
      ]
     },
     "execution_count": 353,
     "metadata": {},
     "output_type": "execute_result"
    }
   ],
   "source": [
    "X"
   ]
  },
  {
   "cell_type": "code",
   "execution_count": 354,
   "id": "0efd8860",
   "metadata": {},
   "outputs": [
    {
     "data": {
      "text/plain": [
       "array([2, 1, 0, 1, 2, 1, 0, 1, 1, 0, 0, 2, 2, 0, 0, 2, 2, 0, 2, 2, 0, 2,\n",
       "       2, 0, 0, 0, 1, 2, 2, 2, 2, 1, 1, 2, 0, 0, 0, 0, 1, 1, 2, 0, 1, 0,\n",
       "       0, 1, 2, 2, 2, 1, 1, 1, 0, 2, 2, 2, 0, 0, 1, 0, 2, 1, 2, 1, 2, 2,\n",
       "       1, 2, 1, 1, 1, 2, 2, 0, 1, 2, 1, 2, 1, 1, 0, 1, 0, 2, 0, 0, 0, 1,\n",
       "       0, 1, 1, 1, 0, 1, 0, 0, 0, 1, 2, 0])"
      ]
     },
     "execution_count": 354,
     "metadata": {},
     "output_type": "execute_result"
    }
   ],
   "source": [
    "y"
   ]
  },
  {
   "cell_type": "code",
   "execution_count": 362,
   "id": "c310e4d6",
   "metadata": {},
   "outputs": [
    {
     "data": {
      "text/plain": [
       "[<matplotlib.lines.Line2D at 0x7fd20c239460>]"
      ]
     },
     "execution_count": 362,
     "metadata": {},
     "output_type": "execute_result"
    },
    {
     "data": {
      "image/png": "[encoded data removed]",
      "text/plain": [
       "<Figure size 432x288 with 1 Axes>"
      ]
     },
     "metadata": {
      "needs_background": "light"
     },
     "output_type": "display_data"
    }
   ],
   "source": [
    "line = np.linspace(-15, 15)\n",
    "plt.plot(line, -(3*line + 4)/2)"
   ]
  },
  {
   "cell_type": "code",
   "execution_count": 367,
   "id": "04715f86",
   "metadata": {},
   "outputs": [
    {
     "data": {
      "image/png": "[encoded data removed]",
      "text/plain": [
       "<Figure size 432x288 with 1 Axes>"
      ]
     },
     "metadata": {
      "needs_background": "light"
     },
     "output_type": "display_data"
    }
   ],
   "source": [
    "line = np.linspace(-15, 15)\n",
    "for coef, intercept, color in zip(linear_svm.coef_, linear_svm.intercept_,\n",
    "                                      mglearn.cm3.colors):\n",
    "    plt.plot(line, -(line * coef[0] + intercept) / coef[1], c=color)\n",
    "    plt.ylim(-10, 15)\n",
    "    plt.xlim(-10, 8)\n",
    "    plt.xlabel(\"Feature 0\")\n",
    "    plt.ylabel(\"Feature 1\")\n",
    "    plt.legend(['Class 0', 'Class 1', 'Class 2', 'Line class 0', 'Line class 1',\n",
    "                'Line class 2'], loc=(1.01, 0.3))"
   ]
  },
  {
   "cell_type": "code",
   "execution_count": 369,
   "id": "2b5775a2",
   "metadata": {},
   "outputs": [],
   "source": [
    "#example of how bernoulliNB finds out the number of times non-zero values occur in the features\n",
    "\n",
    "X = np.array([[0, 1, 0, 1],\n",
    "                  [1, 0, 1, 1],\n",
    "                  [0, 0, 0, 1],\n",
    "                  [1, 0, 1, 0]])\n",
    "y = np.array([0, 1, 0, 1])"
   ]
  },
  {
   "cell_type": "code",
   "execution_count": 384,
   "id": "7eb004c5",
   "metadata": {},
   "outputs": [
    {
     "name": "stdout",
     "output_type": "stream",
     "text": [
      "initially [ True False  True False]\n"
     ]
    },
    {
     "data": {
      "text/plain": [
       "{0: array([[0, 1, 0, 1],\n",
       "        [0, 0, 0, 1]])}"
      ]
     },
     "execution_count": 384,
     "metadata": {},
     "output_type": "execute_result"
    }
   ],
   "source": [
    "counts = {}\n",
    "print(\"initially\",y==0)\n",
    "counts[0] = X[y==0]\n",
    "\n",
    "counts"
   ]
  },
  {
   "cell_type": "code",
   "execution_count": 411,
   "id": "92e6adc8",
   "metadata": {},
   "outputs": [
    {
     "name": "stdout",
     "output_type": "stream",
     "text": [
      "accuracy train 0.988\n",
      "accuracy test 0.951\n"
     ]
    }
   ],
   "source": [
    "# decision trees \n",
    "\n",
    "from sklearn.tree import DecisionTreeClassifier\n",
    "\n",
    "cancer = load_breast_cancer()\n",
    "\n",
    "X_train, X_test, y_train, y_test = sklearn.model_selection.train_test_split(cancer.data, cancer.target,stratify=cancer.target, random_state=42)\n",
    "\n",
    "X_train\n",
    "\n",
    "tree = DecisionTreeClassifier(max_depth=4,random_state=0)\n",
    "\n",
    "tree.fit(X_train, y_train)\n",
    "\n",
    "print(\"accuracy train {:.3f}\".format(tree.score(X_train,y_train)))\n",
    "\n",
    "print(\"accuracy test {:.3f}\".format(tree.score(X_test,y_test)))"
   ]
  },
  {
   "cell_type": "code",
   "execution_count": 427,
   "id": "2e8d1f23",
   "metadata": {},
   "outputs": [
    {
     "data": {
      "text/plain": [
       "([<matplotlib.axis.YTick at 0x7fd20c013430>,\n",
       "  <matplotlib.axis.YTick at 0x7fd20a110a30>,\n",
       "  <matplotlib.axis.YTick at 0x7fd20cdb7970>,\n",
       "  <matplotlib.axis.YTick at 0x7fd20cdcd430>,\n",
       "  <matplotlib.axis.YTick at 0x7fd20cdcd2e0>,\n",
       "  <matplotlib.axis.YTick at 0x7fd20cdcd670>,\n",
       "  <matplotlib.axis.YTick at 0x7fd26654e2e0>,\n",
       "  <matplotlib.axis.YTick at 0x7fd20cdcdf40>,\n",
       "  <matplotlib.axis.YTick at 0x7fd20f77b730>,\n",
       "  <matplotlib.axis.YTick at 0x7fd20f77b400>,\n",
       "  <matplotlib.axis.YTick at 0x7fd20f77bbb0>,\n",
       "  <matplotlib.axis.YTick at 0x7fd20cdd1f70>,\n",
       "  <matplotlib.axis.YTick at 0x7fd20cdd16d0>,\n",
       "  <matplotlib.axis.YTick at 0x7fd20cdd1d90>,\n",
       "  <matplotlib.axis.YTick at 0x7fd20df99be0>,\n",
       "  <matplotlib.axis.YTick at 0x7fd20df99ca0>,\n",
       "  <matplotlib.axis.YTick at 0x7fd20cdd1a30>,\n",
       "  <matplotlib.axis.YTick at 0x7fd20f77b4f0>,\n",
       "  <matplotlib.axis.YTick at 0x7fd20df99c10>,\n",
       "  <matplotlib.axis.YTick at 0x7fd20df993a0>,\n",
       "  <matplotlib.axis.YTick at 0x7fd20c58c100>,\n",
       "  <matplotlib.axis.YTick at 0x7fd20c58c6a0>,\n",
       "  <matplotlib.axis.YTick at 0x7fd20c58c5b0>,\n",
       "  <matplotlib.axis.YTick at 0x7fd20c182640>,\n",
       "  <matplotlib.axis.YTick at 0x7fd20dfb4130>,\n",
       "  <matplotlib.axis.YTick at 0x7fd20c58cac0>,\n",
       "  <matplotlib.axis.YTick at 0x7fd20df99670>,\n",
       "  <matplotlib.axis.YTick at 0x7fd20cdd1220>,\n",
       "  <matplotlib.axis.YTick at 0x7fd20dfb4a00>,\n",
       "  <matplotlib.axis.YTick at 0x7fd20dfb4ee0>],\n",
       " [Text(0, 0, 'mean radius'),\n",
       "  Text(0, 1, 'mean texture'),\n",
       "  Text(0, 2, 'mean perimeter'),\n",
       "  Text(0, 3, 'mean area'),\n",
       "  Text(0, 4, 'mean smoothness'),\n",
       "  Text(0, 5, 'mean compactness'),\n",
       "  Text(0, 6, 'mean concavity'),\n",
       "  Text(0, 7, 'mean concave points'),\n",
       "  Text(0, 8, 'mean symmetry'),\n",
       "  Text(0, 9, 'mean fractal dimension'),\n",
       "  Text(0, 10, 'radius error'),\n",
       "  Text(0, 11, 'texture error'),\n",
       "  Text(0, 12, 'perimeter error'),\n",
       "  Text(0, 13, 'area error'),\n",
       "  Text(0, 14, 'smoothness error'),\n",
       "  Text(0, 15, 'compactness error'),\n",
       "  Text(0, 16, 'concavity error'),\n",
       "  Text(0, 17, 'concave points error'),\n",
       "  Text(0, 18, 'symmetry error'),\n",
       "  Text(0, 19, 'fractal dimension error'),\n",
       "  Text(0, 20, 'worst radius'),\n",
       "  Text(0, 21, 'worst texture'),\n",
       "  Text(0, 22, 'worst perimeter'),\n",
       "  Text(0, 23, 'worst area'),\n",
       "  Text(0, 24, 'worst smoothness'),\n",
       "  Text(0, 25, 'worst compactness'),\n",
       "  Text(0, 26, 'worst concavity'),\n",
       "  Text(0, 27, 'worst concave points'),\n",
       "  Text(0, 28, 'worst symmetry'),\n",
       "  Text(0, 29, 'worst fractal dimension')])"
      ]
     },
     "execution_count": 427,
     "metadata": {},
     "output_type": "execute_result"
    },
    {
     "data": {
      "image/png": "[encoded data removed]",
      "text/plain": [
       "<Figure size 432x288 with 1 Axes>"
      ]
     },
     "metadata": {
      "needs_background": "light"
     },
     "output_type": "display_data"
    }
   ],
   "source": [
    "#feature importance of decision trees \n",
    "\n",
    "num_features = cancer.data.shape[1]\n",
    "\n",
    "plt.barh(range(num_features), tree.feature_importances_, align='center')\n",
    "\n",
    "plt.yticks(np.arange(num_features), cancer.feature_names)\n",
    "\n"
   ]
  },
  {
   "cell_type": "code",
   "execution_count": 423,
   "id": "aa322dbd",
   "metadata": {
    "scrolled": true
   },
   "outputs": [
    {
     "data": {
      "text/plain": [
       "(array([ 0,  1,  2,  3,  4,  5,  6,  7,  8,  9, 10, 11, 12, 13, 14, 15, 16,\n",
       "        17, 18, 19, 20, 21, 22, 23, 24, 25, 26, 27, 28, 29]),\n",
       " array(['mean radius', 'mean texture', 'mean perimeter', 'mean area',\n",
       "        'mean smoothness', 'mean compactness', 'mean concavity',\n",
       "        'mean concave points', 'mean symmetry', 'mean fractal dimension',\n",
       "        'radius error', 'texture error', 'perimeter error', 'area error',\n",
       "        'smoothness error', 'compactness error', 'concavity error',\n",
       "        'concave points error', 'symmetry error',\n",
       "        'fractal dimension error', 'worst radius', 'worst texture',\n",
       "        'worst perimeter', 'worst area', 'worst smoothness',\n",
       "        'worst compactness', 'worst concavity', 'worst concave points',\n",
       "        'worst symmetry', 'worst fractal dimension'], dtype='<U23'))"
      ]
     },
     "execution_count": 423,
     "metadata": {},
     "output_type": "execute_result"
    }
   ],
   "source": [
    "np.arange(num_features), cancer.feature_names"
   ]
  },
  {
   "cell_type": "code",
   "execution_count": 435,
   "id": "602a747c",
   "metadata": {},
   "outputs": [
    {
     "data": {
      "text/plain": [
       "array([1, 2, 3, 4])"
      ]
     },
     "execution_count": 435,
     "metadata": {},
     "output_type": "execute_result"
    }
   ],
   "source": [
    "a = np.array([1,2,3,4])\n",
    "a"
   ]
  },
  {
   "cell_type": "code",
   "execution_count": 440,
   "id": "7ccf3c8e",
   "metadata": {},
   "outputs": [
    {
     "data": {
      "text/plain": [
       "(1,)"
      ]
     },
     "execution_count": 440,
     "metadata": {},
     "output_type": "execute_result"
    }
   ],
   "source": [
    "b = a[:,np.newaxis]\n",
    "b[1].shape"
   ]
  },
  {
   "cell_type": "code",
   "execution_count": 436,
   "id": "4ca99014",
   "metadata": {},
   "outputs": [],
   "source": [
    "c = np.log(a)"
   ]
  },
  {
   "cell_type": "code",
   "execution_count": 439,
   "id": "5a91cbe8",
   "metadata": {},
   "outputs": [
    {
     "data": {
      "text/plain": [
       "array([0.        , 0.69314718, 1.09861229, 1.38629436])"
      ]
     },
     "execution_count": 439,
     "metadata": {},
     "output_type": "execute_result"
    }
   ],
   "source": [
    "c"
   ]
  },
  {
   "cell_type": "code",
   "execution_count": 441,
   "id": "5b01664a",
   "metadata": {},
   "outputs": [
    {
     "data": {
      "text/plain": [
       "array([[1],\n",
       "       [2],\n",
       "       [3],\n",
       "       [4]])"
      ]
     },
     "execution_count": 441,
     "metadata": {},
     "output_type": "execute_result"
    }
   ],
   "source": [
    "b"
   ]
  },
  {
   "cell_type": "code",
   "execution_count": 457,
   "id": "6277b9a3",
   "metadata": {},
   "outputs": [],
   "source": [
    "#ensemble of decision trees \n",
    "#random forest \n",
    "\n",
    "from sklearn.ensemble import RandomForestClassifier\n",
    "from sklearn.datasets import make_moons\n",
    "\n",
    "X,y = make_moons(n_samples=100, noise =0.25, random_state=3)\n",
    "\n",
    "X_train, X_test, y_train, y_test = train_test_split(X, y, stratify=y,\n",
    "                                                        random_state=42)\n",
    "\n",
    "forest = RandomForestClassifier(n_estimators=5, random_state=2)\n",
    "    forest.fit(X_train, y_train)\n",
    "    \n",
    "print()"
   ]
  },
  {
   "cell_type": "code",
   "execution_count": 512,
   "id": "0e589aef",
   "metadata": {},
   "outputs": [],
   "source": []
  },
  {
   "cell_type": "code",
   "execution_count": 543,
   "id": "30e837a8",
   "metadata": {},
   "outputs": [
    {
     "data": {
      "text/plain": [
       "Text(0.5, 0, 'feature1 ** 2')"
      ]
     },
     "execution_count": 543,
     "metadata": {},
     "output_type": "execute_result"
    },
    {
     "data": {
      "image/png": "[encoded data removed]",
      "text/plain": [
       "<Figure size 432x288 with 1 Axes>"
      ]
     },
     "metadata": {
      "needs_background": "light"
     },
     "output_type": "display_data"
    }
   ],
   "source": [
    "#3D plotting for support vector machines\n",
    "\n",
    "X, y = sklearn.datasets.make_blobs(centers=4, random_state=8)\n",
    "X_new = np.hstack([X, X[:, 1:] ** 2])\n",
    "\n",
    "from mpl_toolkits.mplot3d import Axes3D,axes3d\n",
    "\n",
    "fig = plt.figure()\n",
    "\n",
    "ax = Axes3D(fig, elev = -152, azim = -26)\n",
    "\n",
    "mask = y==0\n",
    "\n",
    "# ax.scatter(X_new[mask,0],X_new[mask,1],X_new[mask,2],c='b', s=60,edgecolor='k')\n",
    "\n",
    "# ax.scatter(X_new[~mask,0],X_new[~mask,1],X_new[~mask,2],marker ='^',c='r', s=60,edgecolor='k')\n",
    "\n",
    "ax.scatter(X_new[mask, 0], X_new[mask, 1], X_new[mask, 2], c='b',\n",
    "               cmap=mglearn.cm2, s=60, edgecolor='k')\n",
    "ax.scatter(X_new[~mask, 0], X_new[~mask, 1], X_new[~mask, 2], c='r', marker='^',\n",
    "               cmap=mglearn.cm2, s=60, edgecolor='k')\n",
    "# mask = y==2\n",
    "# ax.scatter(X_new[mask, 0], X_new[mask, 1], X_new[mask, 2], c='g',\n",
    "#                cmap=mglearn.cm2, s=60, edgecolor='k')\n",
    "# mask = y==3\n",
    "\n",
    "# ax.scatter(X_new[mask, 0], X_new[mask, 1], X_new[mask, 2], c='y',\n",
    "#                cmap=mglearn.cm2, s=60, edgecolor='k')\n",
    "ax.set_xlabel(\"feature0\")\n",
    "ax.set_ylabel(\"feature1\")\n",
    "ax.set_zlabel(\"feature1 ** 2\")"
   ]
  },
  {
   "cell_type": "code",
   "execution_count": 540,
   "id": "f6770bef",
   "metadata": {},
   "outputs": [
    {
     "data": {
      "text/plain": [
       "array([3, 2, 1, 3, 3, 0, 2, 1, 3, 3, 0, 0, 3, 1, 1, 2, 2, 3, 3, 0, 0, 1,\n",
       "       0, 0, 3, 0, 0, 3, 2, 1, 1, 3, 1, 3, 0, 2, 3, 0, 1, 2, 1, 3, 2, 2,\n",
       "       0, 2, 1, 0, 1, 1, 1, 2, 0, 0, 3, 2, 2, 2, 0, 3, 3, 2, 1, 2, 0, 1,\n",
       "       3, 1, 0, 0, 1, 2, 0, 1, 0, 0, 3, 2, 3, 1, 2, 0, 3, 2, 3, 2, 0, 2,\n",
       "       2, 3, 1, 0, 3, 2, 2, 1, 1, 3, 1, 1])"
      ]
     },
     "execution_count": 540,
     "metadata": {},
     "output_type": "execute_result"
    }
   ],
   "source": [
    "mglearn.datasets.make_blobs()"
   ]
  },
  {
   "cell_type": "code",
   "execution_count": 603,
   "id": "056426f9",
   "metadata": {},
   "outputs": [
    {
     "name": "stderr",
     "output_type": "stream",
     "text": [
      "/Users/sukruthananth/opt/anaconda3/lib/python3.8/site-packages/sklearn/utils/deprecation.py:86: FutureWarning: Function make_blobs is deprecated; Please import make_blobs directly from scikit-learn\n",
      "  warnings.warn(msg, category=FutureWarning)\n",
      "/Users/sukruthananth/opt/anaconda3/lib/python3.8/site-packages/sklearn/svm/_base.py:985: ConvergenceWarning: Liblinear failed to converge, increase the number of iterations.\n",
      "  warnings.warn(\"Liblinear failed to converge, increase \"\n"
     ]
    },
    {
     "data": {
      "text/plain": [
       "<mpl_toolkits.mplot3d.art3d.Path3DCollection at 0x7fd216c3c310>"
      ]
     },
     "execution_count": 603,
     "metadata": {},
     "output_type": "execute_result"
    },
    {
     "data": {
      "image/png": "[encoded data removed]",
      "text/plain": [
       "<Figure size 432x288 with 1 Axes>"
      ]
     },
     "metadata": {
      "needs_background": "light"
     },
     "output_type": "display_data"
    }
   ],
   "source": [
    "#Plotting a surface to show the bifurcation in the datapoints which can not be shown in a simple linear SVM\n",
    "# so we added an extra feature to convert it into a 3d to show the decision boundary\n",
    "from sklearn.svm import LinearSVC\n",
    "\n",
    "X, y = mglearn.datasets.make_blobs(centers=4, random_state=8)\n",
    "X_new = np.hstack([X, X[:, 1:] ** 2])\n",
    "\n",
    "svcmodel = LinearSVC().fit(X_new, y)\n",
    "\n",
    "coef, intercept = svcmodel.coef_.ravel(), svcmodel.intercept_\n",
    "\n",
    "\n",
    "xx = np.linspace(X_new[:,0].min() - 2, X_new[:,1].max() + 2, 50)\n",
    "\n",
    "yy = np.linspace(X_new[:,1].min() - 2, X_new[:,1].max() + 2, 50)\n",
    "\n",
    "XX,YY = np.meshgrid(xx,yy)\n",
    "\n",
    "ZZ = (coef[0] * XX + coef[1] * YY + intercept[0]) / -coef[2]\n",
    "\n",
    "mask = y==0\n",
    "\n",
    "from mpl_toolkits.mplot3d import Axes3D, axes3d \n",
    "figure = plt.figure()\n",
    "# visualize in 3D\n",
    "ax = Axes3D(figure, elev=-152, azim=-26)\n",
    "\n",
    "ax.plot_surface(XX, YY, ZZ, rstride=8, cstride=8, alpha=0.3)\n",
    "ax.scatter(X_new[mask, 0], X_new[mask, 1], X_new[mask, 2], c='b',\n",
    "               cmap=mglearn.cm2, s=60, edgecolor='k')\n",
    "ax.scatter(X_new[~mask, 0], X_new[~mask, 1], X_new[~mask, 2], c='r', marker='^',\n",
    "               cmap=mglearn.cm2, s=60, edgecolor='k')\n"
   ]
  },
  {
   "cell_type": "code",
   "execution_count": 598,
   "id": "0ee8eba7",
   "metadata": {},
   "outputs": [
    {
     "data": {
      "text/plain": [
       "array([ -0.16348338, -43.7142721 ,   3.50920079, -13.17879056])"
      ]
     },
     "execution_count": 598,
     "metadata": {},
     "output_type": "execute_result"
    }
   ],
   "source": [
    "ZZ = YY**2\n",
    "\n",
    "\n",
    "dec = svcmodel.decision_function(np.c_[XX.ravel(), YY.ravel(), ZZ.ravel()])\n",
    "\n",
    "\n",
    "\n",
    "dec[0]\n"
   ]
  },
  {
   "cell_type": "code",
   "execution_count": 604,
   "id": "82b59a16",
   "metadata": {},
   "outputs": [
    {
     "data": {
      "text/plain": [
       "<matplotlib.collections.PathCollection at 0x7fd216a63ee0>"
      ]
     },
     "execution_count": 604,
     "metadata": {},
     "output_type": "execute_result"
    },
    {
     "data": {
      "image/png": "[encoded data removed]",
      "text/plain": [
       "<Figure size 432x288 with 1 Axes>"
      ]
     },
     "metadata": {
      "needs_background": "light"
     },
     "output_type": "display_data"
    }
   ],
   "source": [
    "plt.contourf(XX,YY, dec[:,3].reshape(XX.shape), levels=[dec.min(), 0, dec.max()])\n",
    "\n",
    "plt.scatter(X[:,0],X[:,1],c=y)"
   ]
  },
  {
   "cell_type": "code",
   "execution_count": 636,
   "id": "80d4437d",
   "metadata": {},
   "outputs": [
    {
     "data": {
      "text/plain": [
       "<matplotlib.collections.PathCollection at 0x7fd211b3d250>"
      ]
     },
     "execution_count": 636,
     "metadata": {},
     "output_type": "execute_result"
    },
    {
     "data": {
      "image/png": "[encoded data removed]",
      "text/plain": [
       "<Figure size 720x216 with 1 Axes>"
      ]
     },
     "metadata": {
      "needs_background": "light"
     },
     "output_type": "display_data"
    }
   ],
   "source": [
    "#The svm, svc classifier \n",
    "\n",
    "# we can also plot support vectors\n",
    "\n",
    "from sklearn.svm import SVC\n",
    "\n",
    "from mglearn.tools import make_handcrafted_dataset\n",
    "\n",
    "X,y = make_handcrafted_dataset()\n",
    "\n",
    "svm_model = SVC(C= 10, gamma=0.1). fit(X,y)\n",
    "\n",
    "xx = np.linspace(X[:,0].min() - 2, X[:,0].max() +2, 1000)\n",
    "\n",
    "yy = np.linspace(X[:,1].min() - 2, X[:,1].max() +2, 1000)\n",
    "\n",
    "XX, YY = np.meshgrid(xx,yy)\n",
    "\n",
    "final_grid = np.c_[XX.ravel(),YY.ravel()]\n",
    "\n",
    "prediction = svm_model.predict(final_grid)\n",
    "\n",
    "figure, ax = plt.subplots(1,1,figsize = (10,3))\n",
    "\n",
    "ax.contour(XX, YY, prediction.reshape(XX.shape))\n",
    "\n",
    "sv = svm_model.support_vectors_\n",
    "\n",
    "labels = svm_model.dual_coef_.ravel()>0\n",
    "\n",
    "plt.scatter(X[:,0],X[:,1], c=y)\n",
    "\n",
    "plt.scatter(sv[:,0],sv[:,1],labels)\n",
    "\n"
   ]
  },
  {
   "cell_type": "code",
   "execution_count": 656,
   "id": "19a9b121",
   "metadata": {},
   "outputs": [
    {
     "data": {
      "text/plain": [
       "array([[4.8690e+00, 7.7500e+00, 3.1750e+01, ..., 9.1400e-02, 1.5360e-01,\n",
       "        1.5030e-02],\n",
       "       [4.2390e+00, 1.0150e+01, 2.8150e+01, ..., 2.0220e-02, 1.7270e-01,\n",
       "        1.0180e-02],\n",
       "       [1.3149e+01, 1.8540e+01, 8.7410e+01, ..., 1.6280e-01, 1.0070e-01,\n",
       "        1.1330e-02],\n",
       "       ...,\n",
       "       [2.4550e+00, 8.6100e+00, 1.6030e+01, ..., 5.0520e-02, 8.8900e-02,\n",
       "        2.6320e-02],\n",
       "       [2.7390e+00, 8.5100e+00, 1.6940e+01, ..., 0.0000e+00, 3.4400e-02,\n",
       "        1.0550e-02],\n",
       "       [4.5290e+00, 1.4220e+01, 3.0730e+01, ..., 9.6530e-02, 5.4700e-02,\n",
       "        3.2280e-02]])"
      ]
     },
     "execution_count": 656,
     "metadata": {},
     "output_type": "execute_result"
    }
   ],
   "source": [
    "from sklearn.datasets import load_breast_cancer\n",
    "from sklearn.model_selection import train_test_split\n",
    "\n",
    "cancer = load_breast_cancer()\n",
    "\n",
    "X, y = cancer.data, cancer.target\n",
    "\n",
    "X_train, X_test, y_train, y_test = train_test_split(\n",
    "        cancer.data, cancer.target, random_state=0)\n",
    "\n",
    "min_on_training = X_train.min(axis=0)\n",
    "\n",
    "range_on_training = (X_train - min_on_training).max(axis=0)\n",
    "\n",
    "X_train_scaled = (X_train - min_on_training) / range_on_training\n",
    "\n",
    "# similarly do for X_test_scaled, this will improve the accuracy and reduce the overfitting"
   ]
  },
  {
   "cell_type": "code",
   "execution_count": 662,
   "id": "d47e4149",
   "metadata": {},
   "outputs": [],
   "source": [
    "#neural networks, MLP classifiers \n",
    "\n",
    "from sklearn.neural_network import MLPClassifier\n",
    "\n",
    "mlp_model = MLPClassifier(solver='lbfgs',hidden_layer_sizes=[10,10], random_state=0)\n"
   ]
  },
  {
   "cell_type": "code",
   "execution_count": 689,
   "id": "694fac83",
   "metadata": {},
   "outputs": [
    {
     "data": {
      "text/plain": [
       "array([0.00033128, 0.00033128, 0.00033128, ..., 0.00155836, 0.00155836,\n",
       "       0.00155836])"
      ]
     },
     "execution_count": 689,
     "metadata": {},
     "output_type": "execute_result"
    },
    {
     "data": {
      "image/png": "[encoded data removed]",
      "text/plain": [
       "<Figure size 432x288 with 1 Axes>"
      ]
     },
     "metadata": {
      "needs_background": "light"
     },
     "output_type": "display_data"
    }
   ],
   "source": [
    "#decision function and predict proba on tree \n",
    "\n",
    "from sklearn.ensemble import GradientBoostingClassifier\n",
    "from sklearn.datasets import make_circles\n",
    "\n",
    "X,y = make_circles(noise=0.25, factor=0.5, random_state=1)\n",
    "y_named = np.array(['blue','red'])[y]\n",
    "\n",
    "X_train, X_test, y_train_named, y_test_named, y_train, y_test = train_test_split(X, y_named, y, random_state=0)\n",
    "\n",
    "gbrt = GradientBoostingClassifier(random_state=0)\n",
    "gbrt.fit(X_train,y_train_named)\n",
    "\n",
    "\n",
    "store_values = (gbrt.decision_function(X_test)>0).astype(int)\n",
    "\n",
    "final = np.array(['blue','red'])[store_values]\n",
    "\n",
    "\n",
    "final1 = gbrt.classes_[store_values]\n",
    "\n",
    "np.all(final == gbrt.predict(X_test))\n",
    "\n",
    "# fig = plt.figure(figsize=(10,3))\n",
    "\n",
    "# ax = fig.axes\n",
    "\n",
    "xx = np.linspace(X[:,0].min() - 2, X[:,0].max() +2, 1000)\n",
    "\n",
    "yy = np.linspace(X[:,1].min() - 2, X[:,1].max() +2, 1000)\n",
    "\n",
    "XX, YY = np.meshgrid(xx,yy)\n",
    "\n",
    "final_grid = np.c_[XX.ravel(),YY.ravel()]\n",
    "\n",
    "final_values = gbrt.decision_function(final_grid)\n",
    "\n",
    "plt.contourf(XX,YY,final_values.reshape(XX.shape))\n",
    "\n",
    "plt.scatter(X[:,0],X[:,1],c=y)\n",
    "\n",
    "\n",
    "\n",
    "nal_values = gbrt.predict_proba(final_grid)[:,1]\n",
    "\n",
    "nal_values\n",
    "\n",
    "\n",
    "# make use of argmax function to get the highest value"
   ]
  },
  {
   "cell_type": "code",
   "execution_count": 697,
   "id": "27589a66",
   "metadata": {},
   "outputs": [
    {
     "data": {
      "text/plain": [
       "array(['versicolor', 'setosa', 'virginica', 'versicolor', 'versicolor',\n",
       "       'setosa', 'versicolor', 'virginica', 'versicolor', 'versicolor',\n",
       "       'virginica', 'setosa', 'setosa', 'setosa', 'setosa', 'versicolor',\n",
       "       'virginica', 'versicolor', 'versicolor', 'virginica', 'setosa',\n",
       "       'virginica', 'setosa', 'virginica', 'virginica', 'virginica',\n",
       "       'virginica', 'virginica', 'setosa', 'setosa', 'setosa', 'setosa',\n",
       "       'versicolor', 'setosa', 'setosa', 'virginica', 'versicolor',\n",
       "       'setosa'], dtype='<U10')"
      ]
     },
     "execution_count": 697,
     "metadata": {},
     "output_type": "execute_result"
    }
   ],
   "source": [
    "# when there are more than two classes, use argmax to get the class \n",
    "\n",
    "from sklearn.datasets import load_iris\n",
    "iris = load_iris()\n",
    "X_train, X_test, y_train, y_test = train_test_split(\n",
    "        iris.data, iris.target, random_state=42)\n",
    "gbrt = GradientBoostingClassifier(learning_rate=0.01, random_state=0)\n",
    "gbrt.fit(X_train, y_train)\n",
    "\n",
    "arguments = np.argmax(gbrt.decision_function(X_test), axis = 1)\n",
    "                      \n",
    "iris.target_names[arguments]"
   ]
  },
  {
   "cell_type": "code",
   "execution_count": null,
   "id": "633d3eba",
   "metadata": {},
   "outputs": [],
   "source": []
  }
 ],
 "metadata": {
  "kernelspec": {
   "display_name": "Python 3",
   "language": "python",
   "name": "python3"
  },
  "language_info": {
   "codemirror_mode": {
    "name": "ipython",
    "version": 3
   },
   "file_extension": ".py",
   "mimetype": "text/x-python",
   "name": "python",
   "nbconvert_exporter": "python",
   "pygments_lexer": "ipython3",
   "version": "3.8.8"
  }
 },
 "nbformat": 4,
 "nbformat_minor": 5
}
