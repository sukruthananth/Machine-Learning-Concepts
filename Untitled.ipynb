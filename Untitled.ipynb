{
 "cells": [
  {
   "cell_type": "code",
   "execution_count": 22,
   "id": "70ec0386",
   "metadata": {
    "scrolled": true
   },
   "outputs": [
    {
     "name": "stdout",
     "output_type": "stream",
     "text": [
      "our\n",
      "1. our\n",
      "2. our\n",
      "meeting\n",
      "1. meeting\n",
      "2. meet\n",
      "today\n",
      "1. today\n",
      "2. today\n",
      "was\n",
      "1. be\n",
      "2. wa\n",
      "worse\n",
      "1. bad\n",
      "2. wors\n",
      "than\n",
      "1. than\n",
      "2. than\n",
      "yesterday\n",
      "1. yesterday\n",
      "2. yesterday\n",
      ",\n",
      "1. ,\n",
      "2. ,\n",
      "i\n",
      "1. I\n",
      "2. i\n",
      "am\n",
      "1. be\n",
      "2. am\n",
      "scared\n",
      "1. scared\n",
      "2. scare\n",
      "of\n",
      "1. of\n",
      "2. of\n",
      "meeting\n",
      "1. meet\n",
      "2. meet\n",
      "the\n",
      "1. the\n",
      "2. the\n",
      "clients\n",
      "1. client\n",
      "2. client\n",
      "tomorrow\n",
      "1. tomorrow\n",
      "2. tomorrow\n",
      ".\n",
      "1. .\n",
      "2. .\n"
     ]
    }
   ],
   "source": [
    "import spacy\n",
    "\n",
    "import nltk\n",
    "\n",
    "stemmer = nltk.stem.PorterStemmer()\n",
    "\n",
    "en_nlp= spacy.load('en_core_web_sm')\n",
    "\n",
    "a = u\"Our meeting today was worse than yesterday, \" \"I'm scared of meeting the clients tomorrow.\"\n",
    "\n",
    "\n",
    "result = en_nlp(a)\n",
    "\n",
    "for tokens in result:\n",
    "    print(tokens.norm_.lower())\n",
    "    print(\"1.\",tokens.lemma_)\n",
    "    print(\"2.\",stemmer.stem(tokens.norm_))"
   ]
  },
  {
   "cell_type": "code",
   "execution_count": 4,
   "id": "60324ce7",
   "metadata": {},
   "outputs": [
    {
     "name": "stdout",
     "output_type": "stream",
     "text": [
      "\u001b[38;5;2m✔ Download and installation successful\u001b[0m\n",
      "You can now load the package via spacy.load('en_core_web_sm')\n"
     ]
    }
   ],
   "source": [
    "spacy.cli.download(\"en_core_web_sm\")"
   ]
  },
  {
   "cell_type": "code",
   "execution_count": 32,
   "id": "36db165c",
   "metadata": {},
   "outputs": [
    {
     "name": "stdout",
     "output_type": "stream",
     "text": [
      "<spacy.tokenizer.Tokenizer object at 0x7feb22f1d820>\n",
      "['how', 'a1', '234', 'are', 'y23', 'doing']\n"
     ]
    }
   ],
   "source": [
    "import re\n",
    "regexp = re.compile('(?u)\\\\b\\\\w\\\\w+\\\\b')\n",
    "\n",
    "string = \"how i a1 234 are y23 doing a\"\n",
    "\n",
    "result = regexp.findall(string)\n",
    "en_nlp= spacy.load('en_core_web_sm')\n",
    "\n",
    "old_tokenizer = en_nlp.tokenizer\n",
    "\n",
    "\n",
    "\n",
    "en_nlp.tokenizer = lambda string: old_tokenizer.tokens_from_list(\n",
    "        regexp.findall(string))\n",
    "\n"
   ]
  },
  {
   "cell_type": "code",
   "execution_count": null,
   "id": "d152873f",
   "metadata": {},
   "outputs": [],
   "source": []
  }
 ],
 "metadata": {
  "kernelspec": {
   "display_name": "Python 3",
   "language": "python",
   "name": "python3"
  },
  "language_info": {
   "codemirror_mode": {
    "name": "ipython",
    "version": 3
   },
   "file_extension": ".py",
   "mimetype": "text/x-python",
   "name": "python",
   "nbconvert_exporter": "python",
   "pygments_lexer": "ipython3",
   "version": "3.8.8"
  }
 },
 "nbformat": 4,
 "nbformat_minor": 5
}
