{
 "cells": [
  {
   "cell_type": "code",
   "execution_count": 44,
   "id": "1ccb2302",
   "metadata": {},
   "outputs": [
    {
     "name": "stderr",
     "output_type": "stream",
     "text": [
      "/Users/sukruthananth/opt/anaconda3/lib/python3.8/site-packages/sklearn/linear_model/_logistic.py:763: ConvergenceWarning: lbfgs failed to converge (status=1):\n",
      "STOP: TOTAL NO. of ITERATIONS REACHED LIMIT.\n",
      "\n",
      "Increase the number of iterations (max_iter) or scale the data as shown in:\n",
      "    https://scikit-learn.org/stable/modules/preprocessing.html\n",
      "Please also refer to the documentation for alternative solver options:\n",
      "    https://scikit-learn.org/stable/modules/linear_model.html#logistic-regression\n",
      "  n_iter_i = _check_optimize_result(\n"
     ]
    },
    {
     "data": {
      "text/plain": [
       "0.8067804937968308"
      ]
     },
     "execution_count": 44,
     "metadata": {},
     "output_type": "execute_result"
    }
   ],
   "source": [
    "import numpy as np\n",
    "import pandas as pd\n",
    "import os\n",
    "\n",
    "# new_path = os.path.join('/Users/sukruthananth/Desktop/Machine Learning and Data Analysis', 'adult.data')\n",
    "# the indexing in pandas is different from the numpy. it includes the last number \n",
    "import IPython \n",
    "\n",
    "\n",
    "data = pd.read_csv('adult.data', header=None,index_col=False, names=['age', 'workclass', 'fnlwgt', 'education',  'education-num',\n",
    "               'marital-status', 'occupation', 'relationship', 'race', 'gender',\n",
    "               'capital-gain', 'capital-loss', 'hours-per-week', 'native-country',\n",
    "               'income'])\n",
    "\n",
    "# data = data['age', 'workclass', 'education', 'gender', 'hours-per-week','occupation', 'income']\n",
    "\n",
    "# data[0]\n",
    "\n",
    "data = data[['age','workclass', 'education', 'gender', 'hours-per-week', 'occupation', 'income']]\n",
    "\n",
    "\n",
    "data_dummies = pd.get_dummies(data)\n",
    "\n",
    "features = data_dummies.loc[:,'age':'occupation_ Transport-moving']\n",
    "\n",
    "X = features.values\n",
    "\n",
    "y = data_dummies['income_ >50K'].values\n",
    "\n",
    "\n",
    "from sklearn.linear_model import LogisticRegression\n",
    "\n",
    "from sklearn.model_selection import train_test_split\n",
    "\n",
    "X_train, X_test, y_train, y_test = train_test_split(X, y, random_state=0)\n",
    "\n",
    "logreg = LogisticRegression().fit(X_train, y_train)\n",
    "\n",
    "logreg.score(X_test, y_test)"
   ]
  },
  {
   "cell_type": "code",
   "execution_count": 134,
   "id": "6cc0a9c3",
   "metadata": {},
   "outputs": [],
   "source": [
    "import mglearn\n",
    "\n",
    "from mglearn.datasets import make_wave\n",
    "\n",
    "X,y = make_wave()\n",
    "\n",
    "\n",
    "bins = np.linspace(-3,3,11)\n",
    "\n",
    "# print(\"bins{}\".format(bins))\n",
    "\n",
    "\n",
    "which_bin = np.digitize(X, bins=bins) # transformed single continuous feature into a categorical feature\n",
    "\n",
    "# we cannot apply get dummies on this data as it does not work on integers so we can apply One hot encoder \n",
    "\n",
    "# we are doing this because we more features so that the linear model plots more than just a line with one feature \n",
    "\n",
    "from sklearn.preprocessing import OneHotEncoder\n",
    "\n",
    "encoder = OneHotEncoder(sparse = False).fit(which_bin)\n",
    "\n",
    "X_binned = encoder.transform(which_bin)\n",
    "\n",
    "# print(X_binned[:5])\n",
    "\n",
    "line = np.linspace(-3, 3, 1000, endpoint=False).reshape(-1,1)\n",
    "\n",
    "line\n",
    "\n",
    "\n",
    "# line_binned = encoder.transform(np.digitize(line, bins=bins))\n",
    "\n",
    "from matplotlib import pyplot as plt"
   ]
  },
  {
   "cell_type": "code",
   "execution_count": 75,
   "id": "0f98efe3",
   "metadata": {},
   "outputs": [
    {
     "data": {
      "image/png": "[encoded data removed]",
      "text/plain": [
       "<Figure size 432x288 with 1 Axes>"
      ]
     },
     "metadata": {
      "needs_background": "light"
     },
     "output_type": "display_data"
    }
   ],
   "source": [
    "# bifurcating using bins\n",
    "\n",
    "for bin in bins:\n",
    "        plt.plot([bin, bin], [-3, 3], ':', c='k', linewidth=1)"
   ]
  },
  {
   "cell_type": "code",
   "execution_count": 135,
   "id": "cab152ba",
   "metadata": {},
   "outputs": [
    {
     "data": {
      "text/plain": [
       "[<matplotlib.lines.Line2D at 0x7fd43d605dc0>]"
      ]
     },
     "execution_count": 135,
     "metadata": {},
     "output_type": "execute_result"
    },
    {
     "data": {
      "image/png": "[encoded data removed]",
      "text/plain": [
       "<Figure size 432x288 with 1 Axes>"
      ]
     },
     "metadata": {
      "needs_background": "light"
     },
     "output_type": "display_data"
    }
   ],
   "source": [
    "#interactions and polynomials - using this we can add slope to the bin while just binning will only learn offsets\n",
    "from sklearn.linear_model import LinearRegression\n",
    "\n",
    "encoder = OneHotEncoder(sparse = False).fit(np.digitize(X, bins=bins))\n",
    "\n",
    "X_binned = encoder.transform(np.digitize(X, bins=bins))\n",
    "\n",
    "\n",
    "X * X_binned, X, X_binned\n",
    "\n",
    "# this gives slope to that particular bin. \n",
    "\n",
    "X_product = np.hstack([X_binned, X*X_binned])\n",
    "\n",
    "Line = np.linspace(-3,3,100, endpoint=False).reshape(-1,1) #if we do not use endpoint = false, then the encoder \n",
    "#do not recognize the last number of the line , 3, as it belongs to bin =11 which was not used during fitting \n",
    "#as it is not available in X\n",
    "\n",
    "\n",
    "line_binned = encoder.transform(np.digitize(Line, bins = bins))\n",
    "\n",
    "Line_product = np.hstack([line_binned, Line*line_binned])\n",
    "\n",
    "logreg = LinearRegression().fit(X_product, y)\n",
    "\n",
    "plt.plot(Line, logreg.predict(Line_product))\n",
    "\n",
    "plt.ylim(-3,3)\n",
    "for bin in bins:\n",
    "        plt.plot([bin, bin], [-3, 3], ':', c='k', linewidth=1)\n",
    "        \n",
    "plt.plot(X[:,0], y, 'o', c='k')\n"
   ]
  },
  {
   "cell_type": "code",
   "execution_count": 136,
   "id": "7238f4fd",
   "metadata": {},
   "outputs": [
    {
     "data": {
      "text/plain": [
       "array([-3. , -2.4, -1.8, -1.2, -0.6,  0. ,  0.6,  1.2,  1.8,  2.4,  3. ])"
      ]
     },
     "execution_count": 136,
     "metadata": {},
     "output_type": "execute_result"
    },
    {
     "data": {
      "image/png": "[encoded data removed]",
      "text/plain": [
       "<Figure size 432x288 with 1 Axes>"
      ]
     },
     "metadata": {
      "needs_background": "light"
     },
     "output_type": "display_data"
    }
   ],
   "source": [
    "# we can also use polynomials to add more features to the continous feature \n",
    "\n",
    "from sklearn.preprocessing import PolynomialFeatures\n",
    "\n",
    "poly = PolynomialFeatures(degree =10, include_bias=False) #include_bias =true adds 1 entire column of values = 1\n",
    "\n",
    "poly.fit(X)\n",
    "\n",
    "X_poly = poly.transform(X)\n",
    "\n",
    "Line_poly = poly.transform(Line)\n",
    "\n",
    "reg = LinearRegression().fit(X_poly, y)\n",
    "\n",
    "plt.plot(Line, reg.predict(Line_poly))\n",
    "\n",
    "plt.plot(X[:,0],y, 'o', c='k')\n",
    "\n",
    "\n",
    "bins\n"
   ]
  },
  {
   "cell_type": "code",
   "execution_count": 145,
   "id": "52cfb8d0",
   "metadata": {},
   "outputs": [
    {
     "name": "stdout",
     "output_type": "stream",
     "text": [
      "Score without interactions: 0.621\n",
      "Score with interactions: 0.753\n",
      "Score without interactions: 0.796\n",
      "Score with interactions: 0.770\n"
     ]
    }
   ],
   "source": [
    "# on Boston housing data \n",
    "\n",
    "from sklearn.datasets import load_boston\n",
    "\n",
    "from sklearn.preprocessing import MinMaxScaler\n",
    "\n",
    "boston= load_boston()\n",
    "\n",
    "X_train, X_test, y_train, y_test = train_test_split(boston.data, boston.target, random_state=0)\n",
    "\n",
    "scaler = MinMaxScaler()\n",
    "\n",
    "X_train_scaled = scaler.fit_transform(X_train)\n",
    "\n",
    "X_test_scaled = scaler.transform(X_test)\n",
    "\n",
    "poly = PolynomialFeatures(degree=2, include_bias=False).fit(X_train_scaled)\n",
    "\n",
    "X_train_poly = poly.transform(X_train_scaled)\n",
    "\n",
    "X_test_poly = poly.transform(X_test_scaled)\n",
    "\n",
    "\n",
    "from sklearn.linear_model import Ridge\n",
    "ridge = Ridge().fit(X_train_scaled, y_train) \n",
    "print(\"Score without interactions: {:.3f}\".format(\n",
    "ridge.score(X_test_scaled, y_test)))\n",
    "ridge = Ridge().fit(X_train_poly, y_train) \n",
    "print(\"Score with interactions: {:.3f}\".format(\n",
    "ridge.score(X_test_poly, y_test))) \n",
    "    \n",
    "    \n",
    "from sklearn.ensemble import RandomForestRegressor\n",
    "rf = RandomForestRegressor(n_estimators=100).fit(X_train_scaled, y_train) \n",
    "print(\"Score without interactions: {:.3f}\".format(\n",
    "rf.score(X_test_scaled, y_test)))\n",
    "rf = RandomForestRegressor(n_estimators=100).fit(X_train_poly, y_train) \n",
    "print(\"Score with interactions: {:.3f}\".format(rf.score(X_test_poly, y_test)))\n",
    "    "
   ]
  },
  {
   "cell_type": "code",
   "execution_count": 175,
   "id": "e02be31a",
   "metadata": {},
   "outputs": [
    {
     "name": "stdout",
     "output_type": "stream",
     "text": [
      "Test score: 0.622\n",
      "Test score: 0.875\n"
     ]
    },
    {
     "data": {
      "image/png": "[encoded data removed]",
      "text/plain": [
       "<Figure size 432x288 with 1 Axes>"
      ]
     },
     "metadata": {
      "needs_background": "light"
     },
     "output_type": "display_data"
    }
   ],
   "source": [
    "# transformations using mathematical functions\n",
    "\n",
    "# on a data like this linear does not give good results hence it is important to apply log functions to get the features relative to each other when they are not linear\n",
    "\n",
    "rnd = np.random.RandomState(0)\n",
    "X_org = rnd.normal(size=(1000,3))\n",
    "\n",
    "w = rnd.normal(size=3)\n",
    "X = rnd.poisson(10*np.exp(X_org))\n",
    "y = np.dot(X_org, w)\n",
    "bins = np.bincount(X[:,0])\n",
    "plt.bar(range(len(bins)), bins)\n",
    "\n",
    "\n",
    "from sklearn.linear_model import Ridge\n",
    "X_train, X_test, y_train, y_test = train_test_split(X, y, random_state=0) \n",
    "score = Ridge().fit(X_train, y_train).score(X_test, y_test)\n",
    "print(\"Test score: {:.3f}\".format(score))\n",
    "\n",
    "X_train_log = np.log(X_train + 1)\n",
    "X_test_log = np.log(X_test + 1)\n",
    "\n",
    "score = Ridge().fit(X_train_log, y_train).score(X_test_log, y_test) \n",
    "print(\"Test score: {:.3f}\".format(score))\n"
   ]
  },
  {
   "cell_type": "code",
   "execution_count": 205,
   "id": "a348b7e4",
   "metadata": {},
   "outputs": [
    {
     "name": "stderr",
     "output_type": "stream",
     "text": [
      "/Users/sukruthananth/opt/anaconda3/lib/python3.8/site-packages/sklearn/linear_model/_logistic.py:763: ConvergenceWarning: lbfgs failed to converge (status=1):\n",
      "STOP: TOTAL NO. of ITERATIONS REACHED LIMIT.\n",
      "\n",
      "Increase the number of iterations (max_iter) or scale the data as shown in:\n",
      "    https://scikit-learn.org/stable/modules/preprocessing.html\n",
      "Please also refer to the documentation for alternative solver options:\n",
      "    https://scikit-learn.org/stable/modules/linear_model.html#logistic-regression\n",
      "  n_iter_i = _check_optimize_result(\n",
      "/Users/sukruthananth/opt/anaconda3/lib/python3.8/site-packages/sklearn/linear_model/_logistic.py:763: ConvergenceWarning: lbfgs failed to converge (status=1):\n",
      "STOP: TOTAL NO. of ITERATIONS REACHED LIMIT.\n",
      "\n",
      "Increase the number of iterations (max_iter) or scale the data as shown in:\n",
      "    https://scikit-learn.org/stable/modules/preprocessing.html\n",
      "Please also refer to the documentation for alternative solver options:\n",
      "    https://scikit-learn.org/stable/modules/linear_model.html#logistic-regression\n",
      "  n_iter_i = _check_optimize_result(\n"
     ]
    },
    {
     "name": "stdout",
     "output_type": "stream",
     "text": [
      "without selection 0.8811188811188811\n",
      "after selection 0.9300699300699301\n",
      "model selection results 0.9300699300699301\n"
     ]
    },
    {
     "name": "stderr",
     "output_type": "stream",
     "text": [
      "/Users/sukruthananth/opt/anaconda3/lib/python3.8/site-packages/sklearn/linear_model/_logistic.py:763: ConvergenceWarning: lbfgs failed to converge (status=1):\n",
      "STOP: TOTAL NO. of ITERATIONS REACHED LIMIT.\n",
      "\n",
      "Increase the number of iterations (max_iter) or scale the data as shown in:\n",
      "    https://scikit-learn.org/stable/modules/preprocessing.html\n",
      "Please also refer to the documentation for alternative solver options:\n",
      "    https://scikit-learn.org/stable/modules/linear_model.html#logistic-regression\n",
      "  n_iter_i = _check_optimize_result(\n"
     ]
    }
   ],
   "source": [
    "#automatic feature selection \n",
    "\n",
    "#1. univariate - this uses select percentile method \n",
    "\n",
    "from sklearn.datasets import load_breast_cancer\n",
    "\n",
    "from sklearn.feature_selection import SelectPercentile\n",
    "\n",
    "from sklearn.feature_selection import SelectFromModel # select from model, takes all the features at once unlikke select percentile which works on one feature at one time\n",
    "\n",
    "from sklearn.feature_selection import RFE # does adding or elimination of features\n",
    "\n",
    "\n",
    "cancer = load_breast_cancer()\n",
    "\n",
    "# X_train, X_test, y_train, y_test = train_test_split(cancer.data, cancer.target, random_state=0)\n",
    "\n",
    "\n",
    "# let us add some noise to the data to check if the selectors remove the noise or not \n",
    "rng = np.random.RandomState(42)\n",
    "\n",
    "noise = rng.normal(size=(len(cancer.data),50))\n",
    "\n",
    "# add noise to the trained value\n",
    "\n",
    "X_noise_data = np.hstack([cancer.data, noise])\n",
    "\n",
    "# X_noise_data.shape\n",
    "# print(X_noise_data.shape)\n",
    "\n",
    "X_train, X_test, y_train, y_test = train_test_split(X_noise_data, cancer.target, random_state=0)\n",
    "\n",
    "select = SelectPercentile(percentile=50)\n",
    "\n",
    "select.fit(X_train, y_train)\n",
    "\n",
    "X_train_selected = select.transform(X_train)\n",
    "\n",
    "X_test_selected = select.transform(X_test)\n",
    "\n",
    "\n",
    "select.get_support()# this gives us which feature is selected \n",
    "\n",
    "# checkking the score with logistic regression before and after selecting \n",
    "\n",
    "reg = LogisticRegression()\n",
    "\n",
    "reg.fit(X_train, y_train)\n",
    "\n",
    "reg.score(X_test,y_test)\n",
    "\n",
    "print(\"without selection\", reg.score(X_test,y_test))\n",
    "\n",
    "reg.fit(X_train_selected, y_train)\n",
    "\n",
    "\n",
    "print(\"after selection\",reg.score(X_test_selected, y_test))\n",
    "\n",
    "\n",
    "\n",
    "# model based selection \n",
    "\n",
    "from sklearn.ensemble import RandomForestClassifier\n",
    "\n",
    "select = SelectFromModel(\n",
    "    RandomForestClassifier(n_estimators=100, random_state=42), threshold=\"median\")\n",
    "\n",
    "select.fit(X_train, y_train)\n",
    "\n",
    "X_train_selected = select.transform(X_train)\n",
    "\n",
    "X_test_selected = select.transform(X_test)\n",
    "\n",
    "\n",
    "reg.fit(X_train_selected, y_train)\n",
    "\n",
    "print(\"model selection results\",reg.score(X_test_selected,y_test))\n",
    "\n",
    "\n",
    "# same goes with Recursive feature elimination RFE, once we select the right features, \n",
    "#even logistic regression works as good as the random forest\n",
    "\n",
    "\n"
   ]
  },
  {
   "cell_type": "code",
   "execution_count": 297,
   "id": "2d957116",
   "metadata": {},
   "outputs": [
    {
     "data": {
      "text/plain": [
       "array([[1., 0., 0., ..., 0., 1., 0.],\n",
       "       [0., 1., 0., ..., 0., 1., 0.],\n",
       "       [0., 0., 1., ..., 0., 1., 0.],\n",
       "       ...,\n",
       "       [0., 0., 0., ..., 0., 0., 0.],\n",
       "       [0., 0., 0., ..., 0., 0., 0.],\n",
       "       [0., 0., 0., ..., 0., 0., 0.]])"
      ]
     },
     "execution_count": 297,
     "metadata": {},
     "output_type": "execute_result"
    }
   ],
   "source": [
    "# Expert knowledge\n",
    "\n",
    "# using POSIX time is very important\n",
    "\n",
    "citibike = mglearn.datasets.load_citibike()\n",
    "xticks = pd.date_range(citibike.index.min(), citibike.index.max(), freq='D')\n",
    "\n",
    "\n",
    "# plt.plot(citibike)\n",
    "# plt.xticks(xticks, xticks.strftime('%a %m-%d'), ha=\"left\", rotation=90)\n",
    "\n",
    "\n",
    "y= citibike.values\n",
    "\n",
    "x = citibike.index.astype(\"int64\").values.reshape(-1,1) // 10**9\n",
    "\n",
    "citibike.index, citibike.index.astype('int64')\n",
    "#pd.date_range()\n",
    "\n",
    "regressor = RandomForestRegressor(n_estimators=100, random_state=0)\n",
    "\n",
    "X_train, X_test = x[:184], x[184:]\n",
    "\n",
    "y_train, y_test = y[:184], y[184:]\n",
    "\n",
    "regressor.fit(X_train, y_train)\n",
    "\n",
    "# regressor.score(X_test, y_test) # the regressor does not work because the values provided in the X_test are out of range\n",
    "\n",
    "X_hour_week = np.hstack([citibike.index.hour.values.reshape(-1,1), citibike.index.weekday.values.reshape(-1,1)])\n",
    "\n",
    "X_hour_week_train, X_hour_week_test = X_hour_week[:184], X_hour_week[184:]\n",
    "\n",
    "regressor.fit(X_hour_week_train, y_train)\n",
    "\n",
    "regressor.score(X_hour_week_test, y_test)\n",
    "\n",
    "\n",
    "# check the same of linear regression as this data does not require complex model as it is only learning mean value\n",
    "reg = LinearRegression()\n",
    "\n",
    "reg.fit(X_hour_week_train, y_train)\n",
    "reg.score(X_hour_week_test, y_test) # linear model does a very bad job because it interprets the data as continuous \n",
    "\n",
    "# we can make it categorical using one hot encoder\n",
    "\n",
    "from sklearn.preprocessing import OneHotEncoder\n",
    "\n",
    "encoder = OneHotEncoder(sparse=False)\n",
    "\n",
    "encoder.fit(X_hour_week)\n",
    "X_hour_week_enc = encoder.transform(X_hour_week)\n",
    "\n",
    "\n",
    "X_hour_week_train, X_hour_week_test = X_hour_week_enc[:184], X_hour_week_enc[184:]\n",
    "\n",
    "regressor.fit(X_hour_week_train, y_train)\n",
    "\n",
    "regressor.score(X_hour_week_test, y_test)\n",
    "\n",
    "X_hour_week_enc\n",
    "\n",
    "# we should also apply polynomials or interactions to make sure that every pair of day and week get their own slopes"
   ]
  },
  {
   "cell_type": "code",
   "execution_count": 285,
   "id": "0fec7734",
   "metadata": {},
   "outputs": [
    {
     "data": {
      "text/plain": [
       "[<matplotlib.lines.Line2D at 0x7fd4433ff8b0>]"
      ]
     },
     "execution_count": 285,
     "metadata": {},
     "output_type": "execute_result"
    },
    {
     "data": {
      "image/png": "[encoded data removed]",
      "text/plain": [
       "<Figure size 432x288 with 1 Axes>"
      ]
     },
     "metadata": {
      "needs_background": "light"
     },
     "output_type": "display_data"
    }
   ],
   "source": [
    "plt.plot(range(184), y_train, label=\"train\")\n",
    "\n",
    "plt.plot(range(184, len(y_test) +184), reg.predict(X_hour_week_test), ':', label=\"test\")\n",
    "\n",
    "plt.plot(range(184, len(y_test) +184), y_test, label=\"test\")\n"
   ]
  },
  {
   "cell_type": "code",
   "execution_count": 280,
   "id": "cc16fe38",
   "metadata": {},
   "outputs": [
    {
     "data": {
      "text/plain": [
       "range(2, 1)"
      ]
     },
     "execution_count": 280,
     "metadata": {},
     "output_type": "execute_result"
    }
   ],
   "source": [
    "b = range(2,1)\n",
    "b"
   ]
  },
  {
   "cell_type": "code",
   "execution_count": null,
   "id": "413c0ad1",
   "metadata": {},
   "outputs": [],
   "source": []
  }
 ],
 "metadata": {
  "kernelspec": {
   "display_name": "Python 3",
   "language": "python",
   "name": "python3"
  },
  "language_info": {
   "codemirror_mode": {
    "name": "ipython",
    "version": 3
   },
   "file_extension": ".py",
   "mimetype": "text/x-python",
   "name": "python",
   "nbconvert_exporter": "python",
   "pygments_lexer": "ipython3",
   "version": "3.8.8"
  }
 },
 "nbformat": 4,
 "nbformat_minor": 5
}
